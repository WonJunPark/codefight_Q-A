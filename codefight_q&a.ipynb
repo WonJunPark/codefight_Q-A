{
  "nbformat": 4,
  "nbformat_minor": 0,
  "metadata": {
    "colab": {
      "name": "codefight_q&a.ipynb",
      "provenance": [],
      "collapsed_sections": [],
      "toc_visible": true,
      "include_colab_link": true
    },
    "kernelspec": {
      "display_name": "Python 3",
      "name": "python3"
    }
  },
  "cells": [
    {
      "cell_type": "markdown",
      "metadata": {
        "id": "view-in-github",
        "colab_type": "text"
      },
      "source": [
        "<a href=\"https://colab.research.google.com/github/WonJunPark/codefight_Q-A/blob/master/codefight_q%26a.ipynb\" target=\"_parent\"><img src=\"https://colab.research.google.com/assets/colab-badge.svg\" alt=\"Open In Colab\"/></a>"
      ]
    },
    {
      "cell_type": "markdown",
      "metadata": {
        "id": "ANe1pP33Uuem",
        "colab_type": "text"
      },
      "source": [
        "11번 질문 (수끄님)"
      ]
    },
    {
      "cell_type": "code",
      "metadata": {
        "id": "QUtSHwXOUuI-",
        "colab_type": "code",
        "colab": {}
      },
      "source": [
        "def sortByHeight(a):\n",
        "#    print(a)\n",
        "    Slist = a\n",
        "    Nindexlist =[]\n",
        "    New=[]\n",
        "#    print(Slist)\n",
        "    for index, value  in enumerate(Slist):\n",
        "        print(index, value)\n",
        "        if value <= 0 or value > 300 :\n",
        "            Nindexlist.append(index)\n",
        "        elif value > 0 and value<=300:\n",
        "            New.append(value)\n",
        "            print(New)\n",
        "        index =+1\n",
        "    New.sort()\n",
        "\n",
        "\n",
        "    for j in range(0, len(Nindexlist)):  # 리스트에 요소 삽입\n",
        "        print(j, Nindexlist[j])\n",
        "        a = Nindexlist[j]\n",
        "        New.insert(a, -1)\n",
        "        j = + 1\n",
        "\n",
        "    return New"
      ],
      "execution_count": 0,
      "outputs": []
    },
    {
      "cell_type": "code",
      "metadata": {
        "id": "I_DekRc5UuLQ",
        "colab_type": "code",
        "outputId": "d6d10b2d-d0db-4dd8-89b2-9f506d3680e1",
        "colab": {
          "base_uri": "https://localhost:8080/",
          "height": 337
        }
      },
      "source": [
        "a = [-1, 150, 190, 170, -1, -1, 160, 180]\n",
        "sortByHeight(a)"
      ],
      "execution_count": 0,
      "outputs": [
        {
          "output_type": "stream",
          "text": [
            "0 -1\n",
            "1 150\n",
            "[150]\n",
            "2 190\n",
            "[150, 190]\n",
            "3 170\n",
            "[150, 190, 170]\n",
            "4 -1\n",
            "5 -1\n",
            "6 160\n",
            "[150, 190, 170, 160]\n",
            "7 180\n",
            "[150, 190, 170, 160, 180]\n",
            "0 0\n",
            "1 4\n",
            "2 5\n",
            "[-1, 150, 160, 170, -1, -1, 180, 190]\n"
          ],
          "name": "stdout"
        },
        {
          "output_type": "execute_result",
          "data": {
            "text/plain": [
              "'0'"
            ]
          },
          "metadata": {
            "tags": []
          },
          "execution_count": 13
        }
      ]
    },
    {
      "cell_type": "code",
      "metadata": {
        "id": "iTEk660TUuNv",
        "colab_type": "code",
        "outputId": "cb14eb23-cfef-49c7-c44d-6d51ef2cf34d",
        "colab": {
          "base_uri": "https://localhost:8080/",
          "height": 35
        }
      },
      "source": [
        "a = [-1, 150, 190, 170, -1, -1, 160, 180]\n",
        "#    print(a)\n",
        "Slist = a\n",
        "Nindexlist =[]\n",
        "New=[]\n",
        "#    print(Slist)\n",
        "for index, value  in enumerate(Slist):\n",
        "\n",
        "    if value <= 0 or value > 300 :\n",
        "        Nindexlist.append(index)\n",
        "    elif value > 0 and value<=300:\n",
        "        New.append(value)\n",
        "\n",
        "    index =+1\n",
        "New.sort()\n",
        "\n",
        "\n",
        "for j in range(0, len(Nindexlist)):  # 리스트에 요소 삽입\n",
        "\n",
        "    a = Nindexlist[j]\n",
        "    New.insert(a, -1)\n",
        "    j = + 1\n",
        "\n",
        "print(New)"
      ],
      "execution_count": 0,
      "outputs": [
        {
          "output_type": "stream",
          "text": [
            "[-1, 150, 160, 170, -1, -1, 180, 190]\n"
          ],
          "name": "stdout"
        }
      ]
    },
    {
      "cell_type": "code",
      "metadata": {
        "id": "vewxYtDfW3zM",
        "colab_type": "code",
        "colab": {}
      },
      "source": [
        ""
      ],
      "execution_count": 0,
      "outputs": []
    }
  ]
}